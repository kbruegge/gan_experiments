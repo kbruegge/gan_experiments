{
 "cells": [
  {
   "cell_type": "code",
   "execution_count": 1,
   "metadata": {
    "ExecuteTime": {
     "end_time": "2018-07-02T11:37:37.326038Z",
     "start_time": "2018-07-02T11:37:36.697120Z"
    },
    "collapsed": true
   },
   "outputs": [],
   "source": [
    "from utils import Logger\n",
    "\n",
    "import torch\n",
    "from torch import nn, optim\n",
    "from torch.autograd.variable import Variable\n",
    "from torchvision import transforms, datasets\n",
    "from tqdm import tqdm_notebook"
   ]
  },
  {
   "cell_type": "code",
   "execution_count": 2,
   "metadata": {
    "ExecuteTime": {
     "end_time": "2018-07-02T11:37:37.330948Z",
     "start_time": "2018-07-02T11:37:37.328147Z"
    },
    "collapsed": true
   },
   "outputs": [],
   "source": [
    "DATA_FOLDER = './torch_data/VGAN/MNIST'"
   ]
  },
  {
   "cell_type": "markdown",
   "metadata": {},
   "source": [
    "## Load Data"
   ]
  },
  {
   "cell_type": "code",
   "execution_count": 3,
   "metadata": {
    "ExecuteTime": {
     "end_time": "2018-07-02T11:37:37.370557Z",
     "start_time": "2018-07-02T11:37:37.359331Z"
    },
    "collapsed": true
   },
   "outputs": [],
   "source": [
    "def mnist_data():\n",
    "    compose = transforms.Compose(\n",
    "        [transforms.ToTensor(),\n",
    "         transforms.Normalize((.5, .5, .5), (.5, .5, .5))\n",
    "        ])\n",
    "    out_dir = '{}/dataset'.format(DATA_FOLDER)\n",
    "    return datasets.MNIST(root=out_dir, train=True, transform=compose, download=True)"
   ]
  },
  {
   "cell_type": "code",
   "execution_count": 4,
   "metadata": {
    "ExecuteTime": {
     "end_time": "2018-07-02T11:37:37.533567Z",
     "start_time": "2018-07-02T11:37:37.432929Z"
    },
    "collapsed": true
   },
   "outputs": [],
   "source": [
    "# Load data\n",
    "data = mnist_data()\n",
    "# Create loader with data, so that we can iterate over it\n",
    "batch_size = 100\n",
    "data_loader = torch.utils.data.DataLoader(data, batch_size=batch_size, shuffle=True)\n",
    "# Num batches\n",
    "num_batches = len(data_loader)"
   ]
  },
  {
   "cell_type": "markdown",
   "metadata": {},
   "source": [
    "## Networks"
   ]
  },
  {
   "cell_type": "code",
   "execution_count": 5,
   "metadata": {
    "ExecuteTime": {
     "end_time": "2018-07-02T11:37:37.639648Z",
     "start_time": "2018-07-02T11:37:37.613050Z"
    },
    "scrolled": false
   },
   "outputs": [],
   "source": [
    "from msgan import GeneratorNet, DiscriminatorNet\n",
    "discriminator = DiscriminatorNet(hidden_sizes=[256, 128, 64])\n",
    "generator = GeneratorNet(hidden_sizes=[64, 128, 256], n_input=28*28)\n",
    "if torch.cuda.is_available():\n",
    "    discriminator.cuda()\n",
    "    generator.cuda()"
   ]
  },
  {
   "cell_type": "code",
   "execution_count": 6,
   "metadata": {
    "ExecuteTime": {
     "end_time": "2018-07-02T11:37:37.712486Z",
     "start_time": "2018-07-02T11:37:37.698065Z"
    }
   },
   "outputs": [
    {
     "name": "stdout",
     "output_type": "stream",
     "text": [
      "Cuda Avilable? : False\n"
     ]
    }
   ],
   "source": [
    "print(f'Cuda Avilable? : {torch.cuda.is_available()}')"
   ]
  },
  {
   "cell_type": "markdown",
   "metadata": {},
   "source": [
    "## Optimization"
   ]
  },
  {
   "cell_type": "code",
   "execution_count": 7,
   "metadata": {
    "ExecuteTime": {
     "end_time": "2018-07-02T11:37:37.889852Z",
     "start_time": "2018-07-02T11:37:37.865676Z"
    },
    "collapsed": true
   },
   "outputs": [],
   "source": [
    "# Optimizers\n",
    "d_optimizer = optim.Adam(discriminator.parameters(), lr=0.0002)\n",
    "g_optimizer = optim.Adam(generator.parameters(), lr=0.0002)\n",
    "\n",
    "# Loss function\n",
    "loss = nn.BCELoss()"
   ]
  },
  {
   "cell_type": "markdown",
   "metadata": {},
   "source": [
    "## Training"
   ]
  },
  {
   "cell_type": "code",
   "execution_count": 8,
   "metadata": {
    "ExecuteTime": {
     "end_time": "2018-07-02T12:50:37.492406Z",
     "start_time": "2018-07-02T11:37:38.759231Z"
    }
   },
   "outputs": [
    {
     "name": "stdout",
     "output_type": "stream",
     "text": [
      "Epoch: [0/100],\n",
      "Generator Loss: 7.8064\n",
      "D(x): 0.0095, D(G(z)): 0.0146\n",
      "Epoch: [1/100],\n",
      "Generator Loss: 10.0668\n",
      "D(x): 0.0498, D(G(z)): 0.0342\n",
      "Epoch: [2/100],\n",
      "Generator Loss: 5.4425\n",
      "D(x): 0.2841, D(G(z)): 0.0552\n",
      "Epoch: [3/100],\n",
      "Generator Loss: 4.1292\n",
      "D(x): 0.0973, D(G(z)): 0.0411\n",
      "Epoch: [4/100],\n",
      "Generator Loss: 5.1368\n",
      "D(x): 0.1681, D(G(z)): 0.0112\n",
      "Epoch: [5/100],\n",
      "Generator Loss: 7.1353\n",
      "D(x): 0.0023, D(G(z)): 0.0727\n",
      "Epoch: [6/100],\n",
      "Generator Loss: 5.5056\n",
      "D(x): 0.1361, D(G(z)): 0.0110\n",
      "Epoch: [7/100],\n",
      "Generator Loss: 5.0492\n",
      "D(x): 0.0362, D(G(z)): 0.0738\n",
      "Epoch: [8/100],\n",
      "Generator Loss: 4.6698\n",
      "D(x): 0.0917, D(G(z)): 0.0249\n",
      "Epoch: [9/100],\n",
      "Generator Loss: 4.8691\n",
      "D(x): 0.0858, D(G(z)): 0.0472\n",
      "Epoch: [10/100],\n",
      "Generator Loss: 4.3268\n",
      "D(x): 0.1559, D(G(z)): 0.0567\n",
      "Epoch: [11/100],\n",
      "Generator Loss: 3.9806\n",
      "D(x): 0.0304, D(G(z)): 0.0530\n",
      "Epoch: [12/100],\n",
      "Generator Loss: 6.6292\n",
      "D(x): 0.0896, D(G(z)): 0.0070\n",
      "Epoch: [13/100],\n",
      "Generator Loss: 4.8687\n",
      "D(x): 0.1534, D(G(z)): 0.0252\n",
      "Epoch: [14/100],\n",
      "Generator Loss: 4.3416\n",
      "D(x): 0.0219, D(G(z)): 0.1154\n",
      "Epoch: [15/100],\n",
      "Generator Loss: 3.5517\n",
      "D(x): 0.0505, D(G(z)): 0.0778\n",
      "Epoch: [16/100],\n",
      "Generator Loss: 4.5413\n",
      "D(x): 0.0985, D(G(z)): 0.1261\n",
      "Epoch: [17/100],\n",
      "Generator Loss: 4.7879\n",
      "D(x): 0.1690, D(G(z)): 0.0976\n",
      "Epoch: [18/100],\n",
      "Generator Loss: 5.4738\n",
      "D(x): 0.1212, D(G(z)): 0.0291\n",
      "Epoch: [19/100],\n",
      "Generator Loss: 4.0060\n",
      "D(x): 0.1457, D(G(z)): 0.0688\n",
      "Epoch: [20/100],\n",
      "Generator Loss: 3.5666\n",
      "D(x): 0.2283, D(G(z)): 0.0782\n",
      "Epoch: [21/100],\n",
      "Generator Loss: 3.9397\n",
      "D(x): 0.1019, D(G(z)): 0.2130\n",
      "Epoch: [22/100],\n",
      "Generator Loss: 3.6477\n",
      "D(x): 0.0827, D(G(z)): 0.0614\n",
      "Epoch: [23/100],\n",
      "Generator Loss: 4.7935\n",
      "D(x): 0.1218, D(G(z)): 0.0734\n",
      "Epoch: [24/100],\n",
      "Generator Loss: 3.7444\n",
      "D(x): 0.0513, D(G(z)): 0.1578\n",
      "Epoch: [25/100],\n",
      "Generator Loss: 3.5107\n",
      "D(x): 0.1913, D(G(z)): 0.0806\n",
      "Epoch: [26/100],\n",
      "Generator Loss: 3.5367\n",
      "D(x): 0.2242, D(G(z)): 0.1534\n",
      "Epoch: [27/100],\n",
      "Generator Loss: 3.7258\n",
      "D(x): 0.0771, D(G(z)): 0.1974\n",
      "Epoch: [28/100],\n",
      "Generator Loss: 3.9791\n",
      "D(x): 0.2417, D(G(z)): 0.0830\n",
      "Epoch: [29/100],\n",
      "Generator Loss: 3.3721\n",
      "D(x): 0.1855, D(G(z)): 0.0677\n",
      "Epoch: [30/100],\n",
      "Generator Loss: 4.2687\n",
      "D(x): 0.2296, D(G(z)): 0.0666\n",
      "Epoch: [31/100],\n",
      "Generator Loss: 3.3493\n",
      "D(x): 0.1250, D(G(z)): 0.0756\n",
      "Epoch: [32/100],\n",
      "Generator Loss: 2.7815\n",
      "D(x): 0.2213, D(G(z)): 0.0931\n",
      "Epoch: [33/100],\n",
      "Generator Loss: 3.0379\n",
      "D(x): 0.0908, D(G(z)): 0.2639\n",
      "Epoch: [34/100],\n",
      "Generator Loss: 3.4897\n",
      "D(x): 0.1505, D(G(z)): 0.1562\n",
      "Epoch: [35/100],\n",
      "Generator Loss: 3.7793\n",
      "D(x): 0.0944, D(G(z)): 0.0766\n",
      "Epoch: [36/100],\n",
      "Generator Loss: 3.9145\n",
      "D(x): 0.2248, D(G(z)): 0.1132\n",
      "Epoch: [37/100],\n",
      "Generator Loss: 2.8596\n",
      "D(x): 0.2018, D(G(z)): 0.1657\n",
      "Epoch: [38/100],\n",
      "Generator Loss: 3.1495\n",
      "D(x): 0.1284, D(G(z)): 0.1184\n",
      "Epoch: [39/100],\n",
      "Generator Loss: 4.5681\n",
      "D(x): 0.1705, D(G(z)): 0.0818\n",
      "Epoch: [40/100],\n",
      "Generator Loss: 3.1799\n",
      "D(x): 0.1520, D(G(z)): 0.1331\n",
      "Epoch: [41/100],\n",
      "Generator Loss: 4.0054\n",
      "D(x): 0.1094, D(G(z)): 0.1393\n",
      "Epoch: [42/100],\n",
      "Generator Loss: 3.8866\n",
      "D(x): 0.1534, D(G(z)): 0.0964\n",
      "Epoch: [43/100],\n",
      "Generator Loss: 3.9082\n",
      "D(x): 0.3588, D(G(z)): 0.0379\n",
      "Epoch: [44/100],\n",
      "Generator Loss: 3.8336\n",
      "D(x): 0.3457, D(G(z)): 0.0818\n",
      "Epoch: [45/100],\n",
      "Generator Loss: 2.6393\n",
      "D(x): 0.1972, D(G(z)): 0.1282\n",
      "Epoch: [46/100],\n",
      "Generator Loss: 2.9083\n",
      "D(x): 0.1976, D(G(z)): 0.1510\n",
      "Epoch: [47/100],\n",
      "Generator Loss: 3.0774\n",
      "D(x): 0.1565, D(G(z)): 0.0886\n",
      "Epoch: [48/100],\n",
      "Generator Loss: 2.5447\n",
      "D(x): 0.1882, D(G(z)): 0.1575\n",
      "Epoch: [49/100],\n",
      "Generator Loss: 3.0194\n",
      "D(x): 0.1495, D(G(z)): 0.0719\n",
      "Epoch: [50/100],\n",
      "Generator Loss: 2.8131\n",
      "D(x): 0.2496, D(G(z)): 0.1959\n",
      "Epoch: [51/100],\n",
      "Generator Loss: 3.2830\n",
      "D(x): 0.2880, D(G(z)): 0.1341\n",
      "Epoch: [52/100],\n",
      "Generator Loss: 2.9101\n",
      "D(x): 0.2023, D(G(z)): 0.1165\n",
      "Epoch: [53/100],\n",
      "Generator Loss: 2.5062\n",
      "D(x): 0.2318, D(G(z)): 0.1295\n",
      "Epoch: [54/100],\n",
      "Generator Loss: 2.1665\n",
      "D(x): 0.2510, D(G(z)): 0.1307\n",
      "Epoch: [55/100],\n",
      "Generator Loss: 2.6984\n",
      "D(x): 0.2659, D(G(z)): 0.1387\n",
      "Epoch: [56/100],\n",
      "Generator Loss: 2.5868\n",
      "D(x): 0.2806, D(G(z)): 0.1391\n",
      "Epoch: [57/100],\n",
      "Generator Loss: 2.7762\n",
      "D(x): 0.1984, D(G(z)): 0.1067\n",
      "Epoch: [58/100],\n",
      "Generator Loss: 2.9518\n",
      "D(x): 0.2039, D(G(z)): 0.0952\n",
      "Epoch: [59/100],\n",
      "Generator Loss: 2.5481\n",
      "D(x): 0.2717, D(G(z)): 0.1260\n",
      "Epoch: [60/100],\n",
      "Generator Loss: 2.5586\n",
      "D(x): 0.1516, D(G(z)): 0.1550\n",
      "Epoch: [61/100],\n",
      "Generator Loss: 2.8568\n",
      "D(x): 0.2329, D(G(z)): 0.1209\n",
      "Epoch: [62/100],\n",
      "Generator Loss: 3.0958\n",
      "D(x): 0.2193, D(G(z)): 0.1550\n",
      "Epoch: [63/100],\n",
      "Generator Loss: 2.9113\n",
      "D(x): 0.2636, D(G(z)): 0.1215\n",
      "Epoch: [64/100],\n",
      "Generator Loss: 2.6287\n",
      "D(x): 0.1770, D(G(z)): 0.1775\n",
      "Epoch: [65/100],\n",
      "Generator Loss: 3.2140\n",
      "D(x): 0.2965, D(G(z)): 0.0882\n",
      "Epoch: [66/100],\n",
      "Generator Loss: 2.8787\n",
      "D(x): 0.1922, D(G(z)): 0.2151\n",
      "Epoch: [67/100],\n",
      "Generator Loss: 2.5696\n",
      "D(x): 0.2377, D(G(z)): 0.2097\n"
     ]
    },
    {
     "ename": "KeyboardInterrupt",
     "evalue": "",
     "output_type": "error",
     "traceback": [
      "\u001b[0;31m---------------------------------------------------------------------------\u001b[0m",
      "\u001b[0;31mKeyboardInterrupt\u001b[0m                         Traceback (most recent call last)",
      "\u001b[0;32m<ipython-input-8-f7a350bdff3e>\u001b[0m in \u001b[0;36m<module>\u001b[0;34m()\u001b[0m\n\u001b[1;32m     11\u001b[0m \u001b[0mnum_epochs\u001b[0m \u001b[0;34m=\u001b[0m \u001b[0;36m5\u001b[0m\u001b[0;34m\u001b[0m\u001b[0m\n\u001b[1;32m     12\u001b[0m \u001b[0;34m\u001b[0m\u001b[0m\n\u001b[0;32m---> 13\u001b[0;31m \u001b[0mgan\u001b[0m\u001b[0;34m.\u001b[0m\u001b[0mfit\u001b[0m\u001b[0;34m(\u001b[0m\u001b[0mdata_generator\u001b[0m\u001b[0;34m=\u001b[0m\u001b[0mdata_loader\u001b[0m\u001b[0;34m,\u001b[0m \u001b[0mnoise_generator\u001b[0m\u001b[0;34m=\u001b[0m\u001b[0mnoise\u001b[0m\u001b[0;34m)\u001b[0m\u001b[0;34m\u001b[0m\u001b[0m\n\u001b[0m",
      "\u001b[0;32m~/Development/unfold/msgan.py\u001b[0m in \u001b[0;36mfit\u001b[0;34m(self, data_generator, noise_generator, num_epochs)\u001b[0m\n\u001b[1;32m    171\u001b[0m         \u001b[0mstep\u001b[0m \u001b[0;34m=\u001b[0m \u001b[0;36m0\u001b[0m\u001b[0;34m\u001b[0m\u001b[0m\n\u001b[1;32m    172\u001b[0m         \u001b[0;32mfor\u001b[0m \u001b[0mepoch\u001b[0m \u001b[0;32min\u001b[0m \u001b[0mrange\u001b[0m\u001b[0;34m(\u001b[0m\u001b[0mnum_epochs\u001b[0m\u001b[0;34m)\u001b[0m\u001b[0;34m:\u001b[0m\u001b[0;34m\u001b[0m\u001b[0m\n\u001b[0;32m--> 173\u001b[0;31m             \u001b[0;32mfor\u001b[0m \u001b[0mn_batch\u001b[0m\u001b[0;34m,\u001b[0m \u001b[0;34m(\u001b[0m\u001b[0mreal_batch\u001b[0m\u001b[0;34m,\u001b[0m \u001b[0m_\u001b[0m\u001b[0;34m)\u001b[0m \u001b[0;32min\u001b[0m \u001b[0menumerate\u001b[0m\u001b[0;34m(\u001b[0m\u001b[0mdata_generator\u001b[0m\u001b[0;34m)\u001b[0m\u001b[0;34m:\u001b[0m\u001b[0;34m\u001b[0m\u001b[0m\n\u001b[0m\u001b[1;32m    174\u001b[0m \u001b[0;34m\u001b[0m\u001b[0m\n\u001b[1;32m    175\u001b[0m                 \u001b[0;31m# 1. Train Discriminator\u001b[0m\u001b[0;34m\u001b[0m\u001b[0;34m\u001b[0m\u001b[0m\n",
      "\u001b[0;32m/usr/local/lib/python3.6/site-packages/torch/utils/data/dataloader.py\u001b[0m in \u001b[0;36m__next__\u001b[0;34m(self)\u001b[0m\n\u001b[1;32m    262\u001b[0m         \u001b[0;32mif\u001b[0m \u001b[0mself\u001b[0m\u001b[0;34m.\u001b[0m\u001b[0mnum_workers\u001b[0m \u001b[0;34m==\u001b[0m \u001b[0;36m0\u001b[0m\u001b[0;34m:\u001b[0m  \u001b[0;31m# same-process loading\u001b[0m\u001b[0;34m\u001b[0m\u001b[0m\n\u001b[1;32m    263\u001b[0m             \u001b[0mindices\u001b[0m \u001b[0;34m=\u001b[0m \u001b[0mnext\u001b[0m\u001b[0;34m(\u001b[0m\u001b[0mself\u001b[0m\u001b[0;34m.\u001b[0m\u001b[0msample_iter\u001b[0m\u001b[0;34m)\u001b[0m  \u001b[0;31m# may raise StopIteration\u001b[0m\u001b[0;34m\u001b[0m\u001b[0m\n\u001b[0;32m--> 264\u001b[0;31m             \u001b[0mbatch\u001b[0m \u001b[0;34m=\u001b[0m \u001b[0mself\u001b[0m\u001b[0;34m.\u001b[0m\u001b[0mcollate_fn\u001b[0m\u001b[0;34m(\u001b[0m\u001b[0;34m[\u001b[0m\u001b[0mself\u001b[0m\u001b[0;34m.\u001b[0m\u001b[0mdataset\u001b[0m\u001b[0;34m[\u001b[0m\u001b[0mi\u001b[0m\u001b[0;34m]\u001b[0m \u001b[0;32mfor\u001b[0m \u001b[0mi\u001b[0m \u001b[0;32min\u001b[0m \u001b[0mindices\u001b[0m\u001b[0;34m]\u001b[0m\u001b[0;34m)\u001b[0m\u001b[0;34m\u001b[0m\u001b[0m\n\u001b[0m\u001b[1;32m    265\u001b[0m             \u001b[0;32mif\u001b[0m \u001b[0mself\u001b[0m\u001b[0;34m.\u001b[0m\u001b[0mpin_memory\u001b[0m\u001b[0;34m:\u001b[0m\u001b[0;34m\u001b[0m\u001b[0m\n\u001b[1;32m    266\u001b[0m                 \u001b[0mbatch\u001b[0m \u001b[0;34m=\u001b[0m \u001b[0mpin_memory_batch\u001b[0m\u001b[0;34m(\u001b[0m\u001b[0mbatch\u001b[0m\u001b[0;34m)\u001b[0m\u001b[0;34m\u001b[0m\u001b[0m\n",
      "\u001b[0;32m/usr/local/lib/python3.6/site-packages/torch/utils/data/dataloader.py\u001b[0m in \u001b[0;36m<listcomp>\u001b[0;34m(.0)\u001b[0m\n\u001b[1;32m    262\u001b[0m         \u001b[0;32mif\u001b[0m \u001b[0mself\u001b[0m\u001b[0;34m.\u001b[0m\u001b[0mnum_workers\u001b[0m \u001b[0;34m==\u001b[0m \u001b[0;36m0\u001b[0m\u001b[0;34m:\u001b[0m  \u001b[0;31m# same-process loading\u001b[0m\u001b[0;34m\u001b[0m\u001b[0m\n\u001b[1;32m    263\u001b[0m             \u001b[0mindices\u001b[0m \u001b[0;34m=\u001b[0m \u001b[0mnext\u001b[0m\u001b[0;34m(\u001b[0m\u001b[0mself\u001b[0m\u001b[0;34m.\u001b[0m\u001b[0msample_iter\u001b[0m\u001b[0;34m)\u001b[0m  \u001b[0;31m# may raise StopIteration\u001b[0m\u001b[0;34m\u001b[0m\u001b[0m\n\u001b[0;32m--> 264\u001b[0;31m             \u001b[0mbatch\u001b[0m \u001b[0;34m=\u001b[0m \u001b[0mself\u001b[0m\u001b[0;34m.\u001b[0m\u001b[0mcollate_fn\u001b[0m\u001b[0;34m(\u001b[0m\u001b[0;34m[\u001b[0m\u001b[0mself\u001b[0m\u001b[0;34m.\u001b[0m\u001b[0mdataset\u001b[0m\u001b[0;34m[\u001b[0m\u001b[0mi\u001b[0m\u001b[0;34m]\u001b[0m \u001b[0;32mfor\u001b[0m \u001b[0mi\u001b[0m \u001b[0;32min\u001b[0m \u001b[0mindices\u001b[0m\u001b[0;34m]\u001b[0m\u001b[0;34m)\u001b[0m\u001b[0;34m\u001b[0m\u001b[0m\n\u001b[0m\u001b[1;32m    265\u001b[0m             \u001b[0;32mif\u001b[0m \u001b[0mself\u001b[0m\u001b[0;34m.\u001b[0m\u001b[0mpin_memory\u001b[0m\u001b[0;34m:\u001b[0m\u001b[0;34m\u001b[0m\u001b[0m\n\u001b[1;32m    266\u001b[0m                 \u001b[0mbatch\u001b[0m \u001b[0;34m=\u001b[0m \u001b[0mpin_memory_batch\u001b[0m\u001b[0;34m(\u001b[0m\u001b[0mbatch\u001b[0m\u001b[0;34m)\u001b[0m\u001b[0;34m\u001b[0m\u001b[0m\n",
      "\u001b[0;32m/usr/local/lib/python3.6/site-packages/torchvision/datasets/mnist.py\u001b[0m in \u001b[0;36m__getitem__\u001b[0;34m(self, index)\u001b[0m\n\u001b[1;32m     66\u001b[0m         \"\"\"\n\u001b[1;32m     67\u001b[0m         \u001b[0;32mif\u001b[0m \u001b[0mself\u001b[0m\u001b[0;34m.\u001b[0m\u001b[0mtrain\u001b[0m\u001b[0;34m:\u001b[0m\u001b[0;34m\u001b[0m\u001b[0m\n\u001b[0;32m---> 68\u001b[0;31m             \u001b[0mimg\u001b[0m\u001b[0;34m,\u001b[0m \u001b[0mtarget\u001b[0m \u001b[0;34m=\u001b[0m \u001b[0mself\u001b[0m\u001b[0;34m.\u001b[0m\u001b[0mtrain_data\u001b[0m\u001b[0;34m[\u001b[0m\u001b[0mindex\u001b[0m\u001b[0;34m]\u001b[0m\u001b[0;34m,\u001b[0m \u001b[0mself\u001b[0m\u001b[0;34m.\u001b[0m\u001b[0mtrain_labels\u001b[0m\u001b[0;34m[\u001b[0m\u001b[0mindex\u001b[0m\u001b[0;34m]\u001b[0m\u001b[0;34m\u001b[0m\u001b[0m\n\u001b[0m\u001b[1;32m     69\u001b[0m         \u001b[0;32melse\u001b[0m\u001b[0;34m:\u001b[0m\u001b[0;34m\u001b[0m\u001b[0m\n\u001b[1;32m     70\u001b[0m             \u001b[0mimg\u001b[0m\u001b[0;34m,\u001b[0m \u001b[0mtarget\u001b[0m \u001b[0;34m=\u001b[0m \u001b[0mself\u001b[0m\u001b[0;34m.\u001b[0m\u001b[0mtest_data\u001b[0m\u001b[0;34m[\u001b[0m\u001b[0mindex\u001b[0m\u001b[0;34m]\u001b[0m\u001b[0;34m,\u001b[0m \u001b[0mself\u001b[0m\u001b[0;34m.\u001b[0m\u001b[0mtest_labels\u001b[0m\u001b[0;34m[\u001b[0m\u001b[0mindex\u001b[0m\u001b[0;34m]\u001b[0m\u001b[0;34m\u001b[0m\u001b[0m\n",
      "\u001b[0;31mKeyboardInterrupt\u001b[0m: "
     ]
    }
   ],
   "source": [
    "from msgan import GAN\n",
    "\n",
    "def noise(size):\n",
    "    n = Variable(torch.randn(size, generator.n_input))\n",
    "    if torch.cuda.is_available():\n",
    "        return n.cuda \n",
    "    return n\n",
    "\n",
    "gan = GAN(generator, discriminator, g_optimizer, d_optimizer)\n",
    "\n",
    "num_epochs = 5\n",
    "\n",
    "gan.fit(data_generator=data_loader, noise_generator=noise)"
   ]
  }
 ],
 "metadata": {
  "kernelspec": {
   "display_name": "Python 3",
   "language": "python",
   "name": "python3"
  },
  "language_info": {
   "codemirror_mode": {
    "name": "ipython",
    "version": 3
   },
   "file_extension": ".py",
   "mimetype": "text/x-python",
   "name": "python",
   "nbconvert_exporter": "python",
   "pygments_lexer": "ipython3",
   "version": "3.6.5"
  }
 },
 "nbformat": 4,
 "nbformat_minor": 2
}
